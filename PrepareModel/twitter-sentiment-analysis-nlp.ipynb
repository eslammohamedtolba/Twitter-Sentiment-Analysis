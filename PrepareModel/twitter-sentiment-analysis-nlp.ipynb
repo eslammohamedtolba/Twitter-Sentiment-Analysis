{
 "cells": [
  {
   "cell_type": "markdown",
   "id": "312906d6",
   "metadata": {
    "papermill": {
     "duration": 0.008964,
     "end_time": "2024-07-29T13:19:28.170058",
     "exception": false,
     "start_time": "2024-07-29T13:19:28.161094",
     "status": "completed"
    },
    "tags": []
   },
   "source": [
    "# Sentiment Analysis on Tweets\n",
    "\n",
    "## Project Overview\n",
    "This notebook aims to perform sentiment analysis on a dataset of tweets using machine learning techniques. The project involves loading and preprocessing the data, applying text vectorization, and training classifiers to predict sentiment labels. The key steps include data loading, preprocessing, stemming, vectorization, model training, evaluation, and saving the trained models and vectorizer.\n",
    "\n",
    "## Key Techniques and Tools\n",
    "- **Data Loading and Preprocessing:** Loading the dataset, renaming columns, handling missing values, and balancing labels.\n",
    "- **Text Preprocessing:** Stemming and removing stop words using NLTK.\n",
    "- **Text Vectorization:** Using TF-IDF vectorizer to transform text data into numerical features.\n",
    "- **Model Training and Evaluation:** Training Logistic Regression and Linear SVC classifiers, evaluating their performance using accuracy, confusion matrix, and classification report.\n",
    "- **Model Saving:** Saving the trained models and vectorizer using joblib for future use.\n",
    "\n",
    "## Code Overview\n",
    "- **Libraries:** Importing necessary libraries for data manipulation, visualization, text processing, machine learning, and model saving.\n",
    "- **Functions:**\n",
    "  - `load_data()`: Loads and displays initial information about the dataset.\n",
    "  - `preprocess()`: Preprocesses the dataset, including renaming columns, handling null values, and balancing labels.\n",
    "  - `stemming()`: Stems text data and removes stop words.\n",
    "  - `fit_predict()`: Trains the model, predicts on test data, evaluates performance, and plots confusion matrix.\n",
    "- **Main Execution:**\n",
    "  - Loading and preprocessing the dataset.\n",
    "  - Stemming text data.\n",
    "  - Splitting data into training and testing sets.\n",
    "  - Vectorizing text data.\n",
    "  - Training and evaluating classifiers.\n",
    "  - Saving trained models and vectorizer."
   ]
  },
  {
   "cell_type": "code",
   "execution_count": 1,
   "id": "9ff304e6",
   "metadata": {},
   "outputs": [
    {
     "name": "stdout",
     "output_type": "stream",
     "text": [
      "Collecting kaggle\n",
      "  Downloading kaggle-1.6.17.tar.gz (82 kB)\n",
      "     ---------------------------------------- 0.0/82.7 kB ? eta -:--:--\n",
      "     -------------- ----------------------- 30.7/82.7 kB 640.0 kB/s eta 0:00:01\n",
      "     -------------------------------------  81.9/82.7 kB 762.6 kB/s eta 0:00:01\n",
      "     -------------------------------------- 82.7/82.7 kB 658.7 kB/s eta 0:00:00\n",
      "  Preparing metadata (setup.py): started\n",
      "  Preparing metadata (setup.py): finished with status 'done'\n",
      "Requirement already satisfied: six>=1.10 in c:\\users\\hp\\anaconda3\\lib\\site-packages (from kaggle) (1.16.0)\n",
      "Requirement already satisfied: certifi>=2023.7.22 in c:\\users\\hp\\anaconda3\\lib\\site-packages (from kaggle) (2024.2.2)\n",
      "Requirement already satisfied: python-dateutil in c:\\users\\hp\\anaconda3\\lib\\site-packages (from kaggle) (2.8.2)\n",
      "Requirement already satisfied: requests in c:\\users\\hp\\anaconda3\\lib\\site-packages (from kaggle) (2.29.0)\n",
      "Requirement already satisfied: tqdm in c:\\users\\hp\\anaconda3\\lib\\site-packages (from kaggle) (4.65.0)\n",
      "Requirement already satisfied: python-slugify in c:\\users\\hp\\anaconda3\\lib\\site-packages (from kaggle) (5.0.2)\n",
      "Requirement already satisfied: urllib3 in c:\\users\\hp\\anaconda3\\lib\\site-packages (from kaggle) (1.26.16)\n",
      "Requirement already satisfied: bleach in c:\\users\\hp\\anaconda3\\lib\\site-packages (from kaggle) (4.1.0)\n",
      "Requirement already satisfied: packaging in c:\\users\\hp\\anaconda3\\lib\\site-packages (from bleach->kaggle) (23.0)\n",
      "Requirement already satisfied: webencodings in c:\\users\\hp\\anaconda3\\lib\\site-packages (from bleach->kaggle) (0.5.1)\n",
      "Requirement already satisfied: text-unidecode>=1.3 in c:\\users\\hp\\anaconda3\\lib\\site-packages (from python-slugify->kaggle) (1.3)\n",
      "Requirement already satisfied: charset-normalizer<4,>=2 in c:\\users\\hp\\anaconda3\\lib\\site-packages (from requests->kaggle) (2.0.4)\n",
      "Requirement already satisfied: idna<4,>=2.5 in c:\\users\\hp\\anaconda3\\lib\\site-packages (from requests->kaggle) (3.4)\n",
      "Requirement already satisfied: colorama in c:\\users\\hp\\anaconda3\\lib\\site-packages (from tqdm->kaggle) (0.4.6)\n",
      "Building wheels for collected packages: kaggle\n",
      "  Building wheel for kaggle (setup.py): started\n",
      "  Building wheel for kaggle (setup.py): finished with status 'done'\n",
      "  Created wheel for kaggle: filename=kaggle-1.6.17-py3-none-any.whl size=105802 sha256=71b545e1074920d23e7b558d81017340651eb7a19a4dff9c98cd3c95e89501a2\n",
      "  Stored in directory: c:\\users\\hp\\appdata\\local\\pip\\cache\\wheels\\ff\\55\\fb\\b27a466be754d2a06ffe0e37b248d844f090a63b51becea85d\n",
      "Successfully built kaggle\n",
      "Installing collected packages: kaggle\n",
      "Successfully installed kaggle-1.6.17\n",
      "Note: you may need to restart the kernel to use updated packages.\n"
     ]
    },
    {
     "name": "stderr",
     "output_type": "stream",
     "text": [
      "\n",
      "[notice] A new release of pip is available: 24.0 -> 24.2\n",
      "[notice] To update, run: python.exe -m pip install --upgrade pip\n"
     ]
    }
   ],
   "source": [
    "# import kaggle module\n",
    "%pip install kaggle"
   ]
  },
  {
   "cell_type": "code",
   "execution_count": 5,
   "id": "24e4a02f",
   "metadata": {},
   "outputs": [
    {
     "name": "stderr",
     "output_type": "stream",
     "text": [
      "The syntax of the command is incorrect.\n",
      "cp: cannot stat 'kaggle.json': No such file or directory\n",
      "chmod: cannot access '~/.kaggle/kaggle.json': No such file or directory\n"
     ]
    }
   ],
   "source": [
    "# configuring the path of Kaggle.json file\n",
    "!mkdir -p ~/.kaggle\n",
    "!cp kaggle.json ~/.kaggle/\n",
    "!chmod 600 ~/.kaggle/kaggle.json"
   ]
  },
  {
   "cell_type": "code",
   "execution_count": 6,
   "id": "d2f16eca",
   "metadata": {},
   "outputs": [
    {
     "name": "stdout",
     "output_type": "stream",
     "text": [
      "Dataset URL: https://www.kaggle.com/datasets/kazanova/sentiment140\n",
      "License(s): other\n",
      "Downloading sentiment140.zip to PrepareModel\n",
      " 88% 71.0M/80.9M [00:00<00:00, 149MB/s]\n",
      "100% 80.9M/80.9M [00:00<00:00, 129MB/s]\n",
      "Archive:  PrepareModel/sentiment140.zip\n",
      "  inflating: PrepareModel/training.1600000.processed.noemoticon.csv\n"
     ]
    }
   ],
   "source": [
    "# Download the dataset from Kaggle and save it directly into the PrepareModel folder\n",
    "!kaggle datasets download -d kazanova/sentiment140 -p PrepareModel\n",
    "# Unzip the file in the PrepareModel folder\n",
    "!unzip PrepareModel/sentiment140.zip -d PrepareModel\n",
    "# Remove the zip file after unzipping\n",
    "!rm PrepareModel/sentiment140.zip"
   ]
  },
  {
   "cell_type": "code",
   "execution_count": 1,
   "id": "086e2124",
   "metadata": {
    "execution": {
     "iopub.execute_input": "2024-07-29T13:19:28.189742Z",
     "iopub.status.busy": "2024-07-29T13:19:28.189276Z",
     "iopub.status.idle": "2024-07-29T13:19:31.540113Z",
     "shell.execute_reply": "2024-07-29T13:19:31.539111Z"
    },
    "papermill": {
     "duration": 3.363717,
     "end_time": "2024-07-29T13:19:31.542736",
     "exception": false,
     "start_time": "2024-07-29T13:19:28.179019",
     "status": "completed"
    },
    "tags": []
   },
   "outputs": [],
   "source": [
    "# Load dependencies\n",
    "import pandas as pd\n",
    "import matplotlib.pyplot as plt\n",
    "import seaborn as sns\n",
    "from copy import deepcopy\n",
    "import re\n",
    "from nltk.corpus import stopwords\n",
    "from nltk.stem.porter import PorterStemmer\n",
    "from sklearn.feature_extraction.text import TfidfVectorizer\n",
    "from sklearn.model_selection import train_test_split\n",
    "from sklearn.linear_model import LogisticRegression\n",
    "from sklearn.ensemble import RandomForestClassifier, GradientBoostingClassifier\n",
    "from sklearn.svm import LinearSVC\n",
    "from sklearn.tree import DecisionTreeClassifier\n",
    "from sklearn.metrics import accuracy_score, classification_report, confusion_matrix\n",
    "import joblib\n",
    "import os"
   ]
  },
  {
   "cell_type": "code",
   "execution_count": 2,
   "id": "f411802f",
   "metadata": {
    "execution": {
     "iopub.execute_input": "2024-07-29T13:19:31.561705Z",
     "iopub.status.busy": "2024-07-29T13:19:31.561171Z",
     "iopub.status.idle": "2024-07-29T13:19:31.794263Z",
     "shell.execute_reply": "2024-07-29T13:19:31.793026Z"
    },
    "papermill": {
     "duration": 0.245072,
     "end_time": "2024-07-29T13:19:31.796468",
     "exception": false,
     "start_time": "2024-07-29T13:19:31.551396",
     "status": "completed"
    },
    "tags": []
   },
   "outputs": [
    {
     "name": "stdout",
     "output_type": "stream",
     "text": [
      "[nltk_data] Downloading package stopwords to /usr/share/nltk_data...\n",
      "[nltk_data]   Package stopwords is already up-to-date!\n"
     ]
    },
    {
     "data": {
      "text/plain": [
       "True"
      ]
     },
     "execution_count": 2,
     "metadata": {},
     "output_type": "execute_result"
    }
   ],
   "source": [
    "import nltk\n",
    "nltk.download('stopwords')"
   ]
  },
  {
   "cell_type": "code",
   "execution_count": 3,
   "id": "5672ce18",
   "metadata": {
    "execution": {
     "iopub.execute_input": "2024-07-29T13:19:31.816001Z",
     "iopub.status.busy": "2024-07-29T13:19:31.815583Z",
     "iopub.status.idle": "2024-07-29T13:19:31.825470Z",
     "shell.execute_reply": "2024-07-29T13:19:31.824433Z"
    },
    "papermill": {
     "duration": 0.022022,
     "end_time": "2024-07-29T13:19:31.827718",
     "exception": false,
     "start_time": "2024-07-29T13:19:31.805696",
     "status": "completed"
    },
    "tags": []
   },
   "outputs": [
    {
     "data": {
      "text/plain": [
       "['i', 'me', 'my', 'myself', 'we', 'our', 'ours', 'ourselves', 'you', \"you're\"]"
      ]
     },
     "execution_count": 3,
     "metadata": {},
     "output_type": "execute_result"
    }
   ],
   "source": [
    "stopwords.words('english')[:10]"
   ]
  },
  {
   "cell_type": "markdown",
   "id": "105c134f",
   "metadata": {
    "papermill": {
     "duration": 0.008749,
     "end_time": "2024-07-29T13:19:31.845746",
     "exception": false,
     "start_time": "2024-07-29T13:19:31.836997",
     "status": "completed"
    },
    "tags": []
   },
   "source": [
    "# Load data"
   ]
  },
  {
   "cell_type": "code",
   "execution_count": 4,
   "id": "acb2840e",
   "metadata": {
    "execution": {
     "iopub.execute_input": "2024-07-29T13:19:31.865552Z",
     "iopub.status.busy": "2024-07-29T13:19:31.865133Z",
     "iopub.status.idle": "2024-07-29T13:19:38.548543Z",
     "shell.execute_reply": "2024-07-29T13:19:38.547438Z"
    },
    "papermill": {
     "duration": 6.696487,
     "end_time": "2024-07-29T13:19:38.551218",
     "exception": false,
     "start_time": "2024-07-29T13:19:31.854731",
     "status": "completed"
    },
    "tags": []
   },
   "outputs": [
    {
     "data": {
      "text/html": [
       "<div>\n",
       "<style scoped>\n",
       "    .dataframe tbody tr th:only-of-type {\n",
       "        vertical-align: middle;\n",
       "    }\n",
       "\n",
       "    .dataframe tbody tr th {\n",
       "        vertical-align: top;\n",
       "    }\n",
       "\n",
       "    .dataframe thead th {\n",
       "        text-align: right;\n",
       "    }\n",
       "</style>\n",
       "<table border=\"1\" class=\"dataframe\">\n",
       "  <thead>\n",
       "    <tr style=\"text-align: right;\">\n",
       "      <th></th>\n",
       "      <th>0</th>\n",
       "      <th>1</th>\n",
       "      <th>2</th>\n",
       "      <th>3</th>\n",
       "      <th>4</th>\n",
       "      <th>5</th>\n",
       "    </tr>\n",
       "  </thead>\n",
       "  <tbody>\n",
       "    <tr>\n",
       "      <th>0</th>\n",
       "      <td>0</td>\n",
       "      <td>1467810369</td>\n",
       "      <td>Mon Apr 06 22:19:45 PDT 2009</td>\n",
       "      <td>NO_QUERY</td>\n",
       "      <td>_TheSpecialOne_</td>\n",
       "      <td>@switchfoot http://twitpic.com/2y1zl - Awww, t...</td>\n",
       "    </tr>\n",
       "    <tr>\n",
       "      <th>1</th>\n",
       "      <td>0</td>\n",
       "      <td>1467810672</td>\n",
       "      <td>Mon Apr 06 22:19:49 PDT 2009</td>\n",
       "      <td>NO_QUERY</td>\n",
       "      <td>scotthamilton</td>\n",
       "      <td>is upset that he can't update his Facebook by ...</td>\n",
       "    </tr>\n",
       "    <tr>\n",
       "      <th>2</th>\n",
       "      <td>0</td>\n",
       "      <td>1467810917</td>\n",
       "      <td>Mon Apr 06 22:19:53 PDT 2009</td>\n",
       "      <td>NO_QUERY</td>\n",
       "      <td>mattycus</td>\n",
       "      <td>@Kenichan I dived many times for the ball. Man...</td>\n",
       "    </tr>\n",
       "    <tr>\n",
       "      <th>3</th>\n",
       "      <td>0</td>\n",
       "      <td>1467811184</td>\n",
       "      <td>Mon Apr 06 22:19:57 PDT 2009</td>\n",
       "      <td>NO_QUERY</td>\n",
       "      <td>ElleCTF</td>\n",
       "      <td>my whole body feels itchy and like its on fire</td>\n",
       "    </tr>\n",
       "    <tr>\n",
       "      <th>4</th>\n",
       "      <td>0</td>\n",
       "      <td>1467811193</td>\n",
       "      <td>Mon Apr 06 22:19:57 PDT 2009</td>\n",
       "      <td>NO_QUERY</td>\n",
       "      <td>Karoli</td>\n",
       "      <td>@nationwideclass no, it's not behaving at all....</td>\n",
       "    </tr>\n",
       "  </tbody>\n",
       "</table>\n",
       "</div>"
      ],
      "text/plain": [
       "   0           1                             2         3                4  \\\n",
       "0  0  1467810369  Mon Apr 06 22:19:45 PDT 2009  NO_QUERY  _TheSpecialOne_   \n",
       "1  0  1467810672  Mon Apr 06 22:19:49 PDT 2009  NO_QUERY    scotthamilton   \n",
       "2  0  1467810917  Mon Apr 06 22:19:53 PDT 2009  NO_QUERY         mattycus   \n",
       "3  0  1467811184  Mon Apr 06 22:19:57 PDT 2009  NO_QUERY          ElleCTF   \n",
       "4  0  1467811193  Mon Apr 06 22:19:57 PDT 2009  NO_QUERY           Karoli   \n",
       "\n",
       "                                                   5  \n",
       "0  @switchfoot http://twitpic.com/2y1zl - Awww, t...  \n",
       "1  is upset that he can't update his Facebook by ...  \n",
       "2  @Kenichan I dived many times for the ball. Man...  \n",
       "3    my whole body feels itchy and like its on fire   \n",
       "4  @nationwideclass no, it's not behaving at all....  "
      ]
     },
     "execution_count": 4,
     "metadata": {},
     "output_type": "execute_result"
    }
   ],
   "source": [
    "df = pd.read_csv('PrepareModel/training.1600000.processed.noemoticon.csv', encoding = 'ISO-8859-1', header = None)\n",
    "df.head()"
   ]
  },
  {
   "cell_type": "code",
   "execution_count": 5,
   "id": "e56b5c9b",
   "metadata": {
    "execution": {
     "iopub.execute_input": "2024-07-29T13:19:38.571461Z",
     "iopub.status.busy": "2024-07-29T13:19:38.571079Z",
     "iopub.status.idle": "2024-07-29T13:19:38.577460Z",
     "shell.execute_reply": "2024-07-29T13:19:38.576353Z"
    },
    "papermill": {
     "duration": 0.019273,
     "end_time": "2024-07-29T13:19:38.579861",
     "exception": false,
     "start_time": "2024-07-29T13:19:38.560588",
     "status": "completed"
    },
    "tags": []
   },
   "outputs": [
    {
     "data": {
      "text/plain": [
       "(1600000, 6)"
      ]
     },
     "execution_count": 5,
     "metadata": {},
     "output_type": "execute_result"
    }
   ],
   "source": [
    "# Show shape of the dataset\n",
    "df.shape"
   ]
  },
  {
   "cell_type": "code",
   "execution_count": 6,
   "id": "985eb8f4",
   "metadata": {
    "execution": {
     "iopub.execute_input": "2024-07-29T13:19:38.602222Z",
     "iopub.status.busy": "2024-07-29T13:19:38.601484Z",
     "iopub.status.idle": "2024-07-29T13:19:38.951313Z",
     "shell.execute_reply": "2024-07-29T13:19:38.950199Z"
    },
    "papermill": {
     "duration": 0.363643,
     "end_time": "2024-07-29T13:19:38.953747",
     "exception": false,
     "start_time": "2024-07-29T13:19:38.590104",
     "status": "completed"
    },
    "tags": []
   },
   "outputs": [
    {
     "name": "stdout",
     "output_type": "stream",
     "text": [
      "<class 'pandas.core.frame.DataFrame'>\n",
      "RangeIndex: 1600000 entries, 0 to 1599999\n",
      "Data columns (total 6 columns):\n",
      " #   Column  Non-Null Count    Dtype \n",
      "---  ------  --------------    ----- \n",
      " 0   0       1600000 non-null  int64 \n",
      " 1   1       1600000 non-null  int64 \n",
      " 2   2       1600000 non-null  object\n",
      " 3   3       1600000 non-null  object\n",
      " 4   4       1600000 non-null  object\n",
      " 5   5       1600000 non-null  object\n",
      "dtypes: int64(2), object(4)\n",
      "memory usage: 73.2+ MB\n"
     ]
    }
   ],
   "source": [
    "# Show some information about dataset\n",
    "df.info()"
   ]
  },
  {
   "cell_type": "code",
   "execution_count": 7,
   "id": "f1b78bde",
   "metadata": {
    "execution": {
     "iopub.execute_input": "2024-07-29T13:19:38.974929Z",
     "iopub.status.busy": "2024-07-29T13:19:38.973915Z",
     "iopub.status.idle": "2024-07-29T13:19:38.980678Z",
     "shell.execute_reply": "2024-07-29T13:19:38.979678Z"
    },
    "papermill": {
     "duration": 0.01954,
     "end_time": "2024-07-29T13:19:38.982861",
     "exception": false,
     "start_time": "2024-07-29T13:19:38.963321",
     "status": "completed"
    },
    "tags": []
   },
   "outputs": [
    {
     "data": {
      "text/plain": [
       "Index([0, 1, 2, 3, 4, 5], dtype='int64')"
      ]
     },
     "execution_count": 7,
     "metadata": {},
     "output_type": "execute_result"
    }
   ],
   "source": [
    "# Show columns of the dataset to know it and know its datatypes\n",
    "df.columns"
   ]
  },
  {
   "cell_type": "markdown",
   "id": "51570f23",
   "metadata": {
    "papermill": {
     "duration": 0.009103,
     "end_time": "2024-07-29T13:19:39.001407",
     "exception": false,
     "start_time": "2024-07-29T13:19:38.992304",
     "status": "completed"
    },
    "tags": []
   },
   "source": [
    "# Preprocessing data"
   ]
  },
  {
   "cell_type": "code",
   "execution_count": 8,
   "id": "a386c040",
   "metadata": {
    "execution": {
     "iopub.execute_input": "2024-07-29T13:19:39.022267Z",
     "iopub.status.busy": "2024-07-29T13:19:39.021395Z",
     "iopub.status.idle": "2024-07-29T13:19:39.117237Z",
     "shell.execute_reply": "2024-07-29T13:19:39.116288Z"
    },
    "papermill": {
     "duration": 0.108899,
     "end_time": "2024-07-29T13:19:39.119828",
     "exception": false,
     "start_time": "2024-07-29T13:19:39.010929",
     "status": "completed"
    },
    "tags": []
   },
   "outputs": [],
   "source": [
    "# Take copy from original dataset to make preprocessing steps on\n",
    "df_processed = deepcopy(df)"
   ]
  },
  {
   "cell_type": "code",
   "execution_count": 9,
   "id": "432517e1",
   "metadata": {
    "execution": {
     "iopub.execute_input": "2024-07-29T13:19:39.140765Z",
     "iopub.status.busy": "2024-07-29T13:19:39.140384Z",
     "iopub.status.idle": "2024-07-29T13:19:39.294857Z",
     "shell.execute_reply": "2024-07-29T13:19:39.293782Z"
    },
    "papermill": {
     "duration": 0.167381,
     "end_time": "2024-07-29T13:19:39.297171",
     "exception": false,
     "start_time": "2024-07-29T13:19:39.129790",
     "status": "completed"
    },
    "tags": []
   },
   "outputs": [
    {
     "data": {
      "text/html": [
       "<div>\n",
       "<style scoped>\n",
       "    .dataframe tbody tr th:only-of-type {\n",
       "        vertical-align: middle;\n",
       "    }\n",
       "\n",
       "    .dataframe tbody tr th {\n",
       "        vertical-align: top;\n",
       "    }\n",
       "\n",
       "    .dataframe thead th {\n",
       "        text-align: right;\n",
       "    }\n",
       "</style>\n",
       "<table border=\"1\" class=\"dataframe\">\n",
       "  <thead>\n",
       "    <tr style=\"text-align: right;\">\n",
       "      <th></th>\n",
       "      <th>target</th>\n",
       "      <th>ids</th>\n",
       "      <th>date</th>\n",
       "      <th>flag</th>\n",
       "      <th>user</th>\n",
       "      <th>text</th>\n",
       "    </tr>\n",
       "  </thead>\n",
       "  <tbody>\n",
       "    <tr>\n",
       "      <th>0</th>\n",
       "      <td>0</td>\n",
       "      <td>1467810369</td>\n",
       "      <td>Mon Apr 06 22:19:45 PDT 2009</td>\n",
       "      <td>NO_QUERY</td>\n",
       "      <td>_TheSpecialOne_</td>\n",
       "      <td>@switchfoot http://twitpic.com/2y1zl - Awww, t...</td>\n",
       "    </tr>\n",
       "    <tr>\n",
       "      <th>1</th>\n",
       "      <td>0</td>\n",
       "      <td>1467810672</td>\n",
       "      <td>Mon Apr 06 22:19:49 PDT 2009</td>\n",
       "      <td>NO_QUERY</td>\n",
       "      <td>scotthamilton</td>\n",
       "      <td>is upset that he can't update his Facebook by ...</td>\n",
       "    </tr>\n",
       "    <tr>\n",
       "      <th>2</th>\n",
       "      <td>0</td>\n",
       "      <td>1467810917</td>\n",
       "      <td>Mon Apr 06 22:19:53 PDT 2009</td>\n",
       "      <td>NO_QUERY</td>\n",
       "      <td>mattycus</td>\n",
       "      <td>@Kenichan I dived many times for the ball. Man...</td>\n",
       "    </tr>\n",
       "    <tr>\n",
       "      <th>3</th>\n",
       "      <td>0</td>\n",
       "      <td>1467811184</td>\n",
       "      <td>Mon Apr 06 22:19:57 PDT 2009</td>\n",
       "      <td>NO_QUERY</td>\n",
       "      <td>ElleCTF</td>\n",
       "      <td>my whole body feels itchy and like its on fire</td>\n",
       "    </tr>\n",
       "    <tr>\n",
       "      <th>4</th>\n",
       "      <td>0</td>\n",
       "      <td>1467811193</td>\n",
       "      <td>Mon Apr 06 22:19:57 PDT 2009</td>\n",
       "      <td>NO_QUERY</td>\n",
       "      <td>Karoli</td>\n",
       "      <td>@nationwideclass no, it's not behaving at all....</td>\n",
       "    </tr>\n",
       "  </tbody>\n",
       "</table>\n",
       "</div>"
      ],
      "text/plain": [
       "   target         ids                          date      flag  \\\n",
       "0       0  1467810369  Mon Apr 06 22:19:45 PDT 2009  NO_QUERY   \n",
       "1       0  1467810672  Mon Apr 06 22:19:49 PDT 2009  NO_QUERY   \n",
       "2       0  1467810917  Mon Apr 06 22:19:53 PDT 2009  NO_QUERY   \n",
       "3       0  1467811184  Mon Apr 06 22:19:57 PDT 2009  NO_QUERY   \n",
       "4       0  1467811193  Mon Apr 06 22:19:57 PDT 2009  NO_QUERY   \n",
       "\n",
       "              user                                               text  \n",
       "0  _TheSpecialOne_  @switchfoot http://twitpic.com/2y1zl - Awww, t...  \n",
       "1    scotthamilton  is upset that he can't update his Facebook by ...  \n",
       "2         mattycus  @Kenichan I dived many times for the ball. Man...  \n",
       "3          ElleCTF    my whole body feels itchy and like its on fire   \n",
       "4           Karoli  @nationwideclass no, it's not behaving at all....  "
      ]
     },
     "execution_count": 9,
     "metadata": {},
     "output_type": "execute_result"
    }
   ],
   "source": [
    "# Change columns names\n",
    "df_processed = df_processed.rename(columns={0: 'target', 1: 'ids',2:'date',3:'flag',4:'user',5:'text'})\n",
    "df_processed.head()"
   ]
  },
  {
   "cell_type": "code",
   "execution_count": 10,
   "id": "09b99491",
   "metadata": {
    "execution": {
     "iopub.execute_input": "2024-07-29T13:19:39.318524Z",
     "iopub.status.busy": "2024-07-29T13:19:39.317718Z",
     "iopub.status.idle": "2024-07-29T13:19:39.645386Z",
     "shell.execute_reply": "2024-07-29T13:19:39.644198Z"
    },
    "papermill": {
     "duration": 0.340861,
     "end_time": "2024-07-29T13:19:39.647820",
     "exception": false,
     "start_time": "2024-07-29T13:19:39.306959",
     "status": "completed"
    },
    "tags": []
   },
   "outputs": [
    {
     "data": {
      "text/plain": [
       "target    0\n",
       "ids       0\n",
       "date      0\n",
       "flag      0\n",
       "user      0\n",
       "text      0\n",
       "dtype: int64"
      ]
     },
     "execution_count": 10,
     "metadata": {},
     "output_type": "execute_result"
    }
   ],
   "source": [
    "# Check about null values to check if we will handle missing values if exist\n",
    "df_processed.isnull().sum()"
   ]
  },
  {
   "cell_type": "markdown",
   "id": "0a480d40",
   "metadata": {
    "papermill": {
     "duration": 0.00935,
     "end_time": "2024-07-29T13:19:39.667170",
     "exception": false,
     "start_time": "2024-07-29T13:19:39.657820",
     "status": "completed"
    },
    "tags": []
   },
   "source": [
    "## Handle invalid data"
   ]
  },
  {
   "cell_type": "code",
   "execution_count": 11,
   "id": "927d0960",
   "metadata": {
    "execution": {
     "iopub.execute_input": "2024-07-29T13:19:39.689103Z",
     "iopub.status.busy": "2024-07-29T13:19:39.688034Z",
     "iopub.status.idle": "2024-07-29T13:19:39.733789Z",
     "shell.execute_reply": "2024-07-29T13:19:39.732717Z"
    },
    "papermill": {
     "duration": 0.059105,
     "end_time": "2024-07-29T13:19:39.736096",
     "exception": false,
     "start_time": "2024-07-29T13:19:39.676991",
     "status": "completed"
    },
    "tags": []
   },
   "outputs": [
    {
     "data": {
      "text/html": [
       "<div>\n",
       "<style scoped>\n",
       "    .dataframe tbody tr th:only-of-type {\n",
       "        vertical-align: middle;\n",
       "    }\n",
       "\n",
       "    .dataframe tbody tr th {\n",
       "        vertical-align: top;\n",
       "    }\n",
       "\n",
       "    .dataframe thead th {\n",
       "        text-align: right;\n",
       "    }\n",
       "</style>\n",
       "<table border=\"1\" class=\"dataframe\">\n",
       "  <thead>\n",
       "    <tr style=\"text-align: right;\">\n",
       "      <th></th>\n",
       "      <th>target</th>\n",
       "      <th>text</th>\n",
       "    </tr>\n",
       "  </thead>\n",
       "  <tbody>\n",
       "    <tr>\n",
       "      <th>0</th>\n",
       "      <td>0</td>\n",
       "      <td>@switchfoot http://twitpic.com/2y1zl - Awww, t...</td>\n",
       "    </tr>\n",
       "    <tr>\n",
       "      <th>1</th>\n",
       "      <td>0</td>\n",
       "      <td>is upset that he can't update his Facebook by ...</td>\n",
       "    </tr>\n",
       "    <tr>\n",
       "      <th>2</th>\n",
       "      <td>0</td>\n",
       "      <td>@Kenichan I dived many times for the ball. Man...</td>\n",
       "    </tr>\n",
       "    <tr>\n",
       "      <th>3</th>\n",
       "      <td>0</td>\n",
       "      <td>my whole body feels itchy and like its on fire</td>\n",
       "    </tr>\n",
       "    <tr>\n",
       "      <th>4</th>\n",
       "      <td>0</td>\n",
       "      <td>@nationwideclass no, it's not behaving at all....</td>\n",
       "    </tr>\n",
       "  </tbody>\n",
       "</table>\n",
       "</div>"
      ],
      "text/plain": [
       "   target                                               text\n",
       "0       0  @switchfoot http://twitpic.com/2y1zl - Awww, t...\n",
       "1       0  is upset that he can't update his Facebook by ...\n",
       "2       0  @Kenichan I dived many times for the ball. Man...\n",
       "3       0    my whole body feels itchy and like its on fire \n",
       "4       0  @nationwideclass no, it's not behaving at all...."
      ]
     },
     "execution_count": 11,
     "metadata": {},
     "output_type": "execute_result"
    }
   ],
   "source": [
    "# Get the most relevant columns to classify based on that is text and also the output labels\n",
    "df_processed = df_processed[['target', 'text']]\n",
    "df_processed.head()"
   ]
  },
  {
   "cell_type": "code",
   "execution_count": 12,
   "id": "9f08ebff",
   "metadata": {
    "execution": {
     "iopub.execute_input": "2024-07-29T13:19:39.758381Z",
     "iopub.status.busy": "2024-07-29T13:19:39.757461Z",
     "iopub.status.idle": "2024-07-29T13:19:39.970564Z",
     "shell.execute_reply": "2024-07-29T13:19:39.969447Z"
    },
    "papermill": {
     "duration": 0.227102,
     "end_time": "2024-07-29T13:19:39.973332",
     "exception": false,
     "start_time": "2024-07-29T13:19:39.746230",
     "status": "completed"
    },
    "tags": []
   },
   "outputs": [
    {
     "name": "stdout",
     "output_type": "stream",
     "text": [
      "target\n",
      "0    800000\n",
      "4    800000\n",
      "Name: count, dtype: int64\n"
     ]
    },
    {
     "data": {
      "image/png": "[encoded data removed]",
      "text/plain": [
       "<Figure size 640x480 with 1 Axes>"
      ]
     },
     "metadata": {},
     "output_type": "display_data"
    }
   ],
   "source": [
    "# Check about degree of balancing for the labels counts\n",
    "counts = df_processed['target'].value_counts()\n",
    "print(counts)\n",
    "plt.bar(counts.index, counts)\n",
    "plt.show()"
   ]
  },
  {
   "cell_type": "code",
   "execution_count": 13,
   "id": "526f7346",
   "metadata": {
    "execution": {
     "iopub.execute_input": "2024-07-29T13:19:39.996549Z",
     "iopub.status.busy": "2024-07-29T13:19:39.996195Z",
     "iopub.status.idle": "2024-07-29T13:19:40.679688Z",
     "shell.execute_reply": "2024-07-29T13:19:40.678675Z"
    },
    "papermill": {
     "duration": 0.697565,
     "end_time": "2024-07-29T13:19:40.681945",
     "exception": false,
     "start_time": "2024-07-29T13:19:39.984380",
     "status": "completed"
    },
    "tags": []
   },
   "outputs": [
    {
     "data": {
      "text/html": [
       "<div>\n",
       "<style scoped>\n",
       "    .dataframe tbody tr th:only-of-type {\n",
       "        vertical-align: middle;\n",
       "    }\n",
       "\n",
       "    .dataframe tbody tr th {\n",
       "        vertical-align: top;\n",
       "    }\n",
       "\n",
       "    .dataframe thead th {\n",
       "        text-align: right;\n",
       "    }\n",
       "</style>\n",
       "<table border=\"1\" class=\"dataframe\">\n",
       "  <thead>\n",
       "    <tr style=\"text-align: right;\">\n",
       "      <th></th>\n",
       "      <th>target</th>\n",
       "      <th>text</th>\n",
       "    </tr>\n",
       "  </thead>\n",
       "  <tbody>\n",
       "    <tr>\n",
       "      <th>0</th>\n",
       "      <td>0</td>\n",
       "      <td>@switchfoot http://twitpic.com/2y1zl - Awww, t...</td>\n",
       "    </tr>\n",
       "    <tr>\n",
       "      <th>1</th>\n",
       "      <td>0</td>\n",
       "      <td>is upset that he can't update his Facebook by ...</td>\n",
       "    </tr>\n",
       "    <tr>\n",
       "      <th>2</th>\n",
       "      <td>0</td>\n",
       "      <td>@Kenichan I dived many times for the ball. Man...</td>\n",
       "    </tr>\n",
       "    <tr>\n",
       "      <th>3</th>\n",
       "      <td>0</td>\n",
       "      <td>my whole body feels itchy and like its on fire</td>\n",
       "    </tr>\n",
       "    <tr>\n",
       "      <th>4</th>\n",
       "      <td>0</td>\n",
       "      <td>@nationwideclass no, it's not behaving at all....</td>\n",
       "    </tr>\n",
       "  </tbody>\n",
       "</table>\n",
       "</div>"
      ],
      "text/plain": [
       "   target                                               text\n",
       "0       0  @switchfoot http://twitpic.com/2y1zl - Awww, t...\n",
       "1       0  is upset that he can't update his Facebook by ...\n",
       "2       0  @Kenichan I dived many times for the ball. Man...\n",
       "3       0    my whole body feels itchy and like its on fire \n",
       "4       0  @nationwideclass no, it's not behaving at all...."
      ]
     },
     "execution_count": 13,
     "metadata": {},
     "output_type": "execute_result"
    }
   ],
   "source": [
    "# Replace 4's in the text column into 1's to make the values (0 -> negative, 1 -> positive)\n",
    "df_processed['target'] = df_processed['target'].apply(lambda x: 1 if x == 4 else 0)\n",
    "df_processed.head()"
   ]
  },
  {
   "cell_type": "code",
   "execution_count": 14,
   "id": "2b6d7e0a",
   "metadata": {
    "execution": {
     "iopub.execute_input": "2024-07-29T13:19:40.704537Z",
     "iopub.status.busy": "2024-07-29T13:19:40.704175Z",
     "iopub.status.idle": "2024-07-29T13:19:40.900002Z",
     "shell.execute_reply": "2024-07-29T13:19:40.898794Z"
    },
    "papermill": {
     "duration": 0.210207,
     "end_time": "2024-07-29T13:19:40.902694",
     "exception": false,
     "start_time": "2024-07-29T13:19:40.692487",
     "status": "completed"
    },
    "tags": []
   },
   "outputs": [
    {
     "name": "stdout",
     "output_type": "stream",
     "text": [
      "target\n",
      "0    800000\n",
      "1    800000\n",
      "Name: count, dtype: int64\n"
     ]
    },
    {
     "data": {
      "image/png": "[encoded data removed]",
      "text/plain": [
       "<Figure size 640x480 with 1 Axes>"
      ]
     },
     "metadata": {},
     "output_type": "display_data"
    }
   ],
   "source": [
    "# Check the change of replacing the 4's values\n",
    "counts = df_processed['target'].value_counts()\n",
    "print(counts)\n",
    "plt.bar(counts.index, counts)\n",
    "plt.show()"
   ]
  },
  {
   "cell_type": "markdown",
   "id": "0f3f935c",
   "metadata": {
    "papermill": {
     "duration": 0.010595,
     "end_time": "2024-07-29T13:19:40.924352",
     "exception": false,
     "start_time": "2024-07-29T13:19:40.913757",
     "status": "completed"
    },
    "tags": []
   },
   "source": [
    "## Stemming text\n",
    "**stemming process**: text preprocessing technique used in natural language processing (NLP) to reduce words to their root or base form. The main goal of stemming is to group together different forms of a word so they can be analyzed as a single item."
   ]
  },
  {
   "cell_type": "code",
   "execution_count": 15,
   "id": "c24a734a",
   "metadata": {
    "execution": {
     "iopub.execute_input": "2024-07-29T13:19:40.948650Z",
     "iopub.status.busy": "2024-07-29T13:19:40.948248Z",
     "iopub.status.idle": "2024-07-29T13:19:40.956199Z",
     "shell.execute_reply": "2024-07-29T13:19:40.954977Z"
    },
    "papermill": {
     "duration": 0.02297,
     "end_time": "2024-07-29T13:19:40.958493",
     "exception": false,
     "start_time": "2024-07-29T13:19:40.935523",
     "status": "completed"
    },
    "tags": []
   },
   "outputs": [],
   "source": [
    "# Create function to take the content and stemmer and stem it\n",
    "def stemming(content, stemmer):\n",
    "    # Remove non-alphabetical characters\n",
    "    stemmed_content = re.sub('[^a-zA-Z]', ' ', content)\n",
    "    \n",
    "    # Convert sentences into lowercase sentences and split each into words\n",
    "    stemmed_content = stemmed_content.lower()\n",
    "    stemmed_content = stemmed_content.split()\n",
    "    \n",
    "    # Prepare stop words\n",
    "    stop_words = set(stopwords.words('english'))\n",
    "    \n",
    "    # Stem words and remove stop words\n",
    "    stemmed_content = [stemmer.stem(word) for word in stemmed_content if word not in stop_words]\n",
    "    stemmed_content = ' '.join(stemmed_content)\n",
    "    \n",
    "    return stemmed_content"
   ]
  },
  {
   "cell_type": "code",
   "execution_count": 16,
   "id": "313646cb",
   "metadata": {
    "execution": {
     "iopub.execute_input": "2024-07-29T13:19:40.982579Z",
     "iopub.status.busy": "2024-07-29T13:19:40.981649Z",
     "iopub.status.idle": "2024-07-29T13:19:40.991406Z",
     "shell.execute_reply": "2024-07-29T13:19:40.990349Z"
    },
    "papermill": {
     "duration": 0.023905,
     "end_time": "2024-07-29T13:19:40.993519",
     "exception": false,
     "start_time": "2024-07-29T13:19:40.969614",
     "status": "completed"
    },
    "tags": []
   },
   "outputs": [
    {
     "data": {
      "text/html": [
       "<div>\n",
       "<style scoped>\n",
       "    .dataframe tbody tr th:only-of-type {\n",
       "        vertical-align: middle;\n",
       "    }\n",
       "\n",
       "    .dataframe tbody tr th {\n",
       "        vertical-align: top;\n",
       "    }\n",
       "\n",
       "    .dataframe thead th {\n",
       "        text-align: right;\n",
       "    }\n",
       "</style>\n",
       "<table border=\"1\" class=\"dataframe\">\n",
       "  <thead>\n",
       "    <tr style=\"text-align: right;\">\n",
       "      <th></th>\n",
       "      <th>target</th>\n",
       "      <th>text</th>\n",
       "    </tr>\n",
       "  </thead>\n",
       "  <tbody>\n",
       "    <tr>\n",
       "      <th>0</th>\n",
       "      <td>0</td>\n",
       "      <td>@switchfoot http://twitpic.com/2y1zl - Awww, t...</td>\n",
       "    </tr>\n",
       "    <tr>\n",
       "      <th>1</th>\n",
       "      <td>0</td>\n",
       "      <td>is upset that he can't update his Facebook by ...</td>\n",
       "    </tr>\n",
       "    <tr>\n",
       "      <th>2</th>\n",
       "      <td>0</td>\n",
       "      <td>@Kenichan I dived many times for the ball. Man...</td>\n",
       "    </tr>\n",
       "    <tr>\n",
       "      <th>3</th>\n",
       "      <td>0</td>\n",
       "      <td>my whole body feels itchy and like its on fire</td>\n",
       "    </tr>\n",
       "    <tr>\n",
       "      <th>4</th>\n",
       "      <td>0</td>\n",
       "      <td>@nationwideclass no, it's not behaving at all....</td>\n",
       "    </tr>\n",
       "  </tbody>\n",
       "</table>\n",
       "</div>"
      ],
      "text/plain": [
       "   target                                               text\n",
       "0       0  @switchfoot http://twitpic.com/2y1zl - Awww, t...\n",
       "1       0  is upset that he can't update his Facebook by ...\n",
       "2       0  @Kenichan I dived many times for the ball. Man...\n",
       "3       0    my whole body feels itchy and like its on fire \n",
       "4       0  @nationwideclass no, it's not behaving at all...."
      ]
     },
     "execution_count": 16,
     "metadata": {},
     "output_type": "execute_result"
    }
   ],
   "source": [
    "# Show first rows of dataset before stemming it\n",
    "df_processed.head()"
   ]
  },
  {
   "cell_type": "code",
   "execution_count": 17,
   "id": "b00e0b6b",
   "metadata": {
    "execution": {
     "iopub.execute_input": "2024-07-29T13:19:41.017481Z",
     "iopub.status.busy": "2024-07-29T13:19:41.017114Z",
     "iopub.status.idle": "2024-07-29T13:19:41.022090Z",
     "shell.execute_reply": "2024-07-29T13:19:41.021001Z"
    },
    "papermill": {
     "duration": 0.019507,
     "end_time": "2024-07-29T13:19:41.024304",
     "exception": false,
     "start_time": "2024-07-29T13:19:41.004797",
     "status": "completed"
    },
    "tags": []
   },
   "outputs": [],
   "source": [
    "# Create stemmer\n",
    "stemmer = PorterStemmer()"
   ]
  },
  {
   "cell_type": "code",
   "execution_count": 18,
   "id": "54881101",
   "metadata": {
    "execution": {
     "iopub.execute_input": "2024-07-29T13:19:41.048961Z",
     "iopub.status.busy": "2024-07-29T13:19:41.048537Z",
     "iopub.status.idle": "2024-07-29T13:29:26.992040Z",
     "shell.execute_reply": "2024-07-29T13:29:26.990955Z"
    },
    "papermill": {
     "duration": 585.958883,
     "end_time": "2024-07-29T13:29:26.995041",
     "exception": false,
     "start_time": "2024-07-29T13:19:41.036158",
     "status": "completed"
    },
    "tags": []
   },
   "outputs": [],
   "source": [
    "# Apply stemming function to the 'text' column in DataFrame\n",
    "df_processed['text'] = df_processed['text'].apply(lambda x: stemming(x, stemmer))"
   ]
  },
  {
   "cell_type": "code",
   "execution_count": 19,
   "id": "14c01cb3",
   "metadata": {
    "execution": {
     "iopub.execute_input": "2024-07-29T13:29:27.020143Z",
     "iopub.status.busy": "2024-07-29T13:29:27.019785Z",
     "iopub.status.idle": "2024-07-29T13:29:27.030353Z",
     "shell.execute_reply": "2024-07-29T13:29:27.029292Z"
    },
    "papermill": {
     "duration": 0.025364,
     "end_time": "2024-07-29T13:29:27.032615",
     "exception": false,
     "start_time": "2024-07-29T13:29:27.007251",
     "status": "completed"
    },
    "tags": []
   },
   "outputs": [
    {
     "data": {
      "text/html": [
       "<div>\n",
       "<style scoped>\n",
       "    .dataframe tbody tr th:only-of-type {\n",
       "        vertical-align: middle;\n",
       "    }\n",
       "\n",
       "    .dataframe tbody tr th {\n",
       "        vertical-align: top;\n",
       "    }\n",
       "\n",
       "    .dataframe thead th {\n",
       "        text-align: right;\n",
       "    }\n",
       "</style>\n",
       "<table border=\"1\" class=\"dataframe\">\n",
       "  <thead>\n",
       "    <tr style=\"text-align: right;\">\n",
       "      <th></th>\n",
       "      <th>target</th>\n",
       "      <th>text</th>\n",
       "    </tr>\n",
       "  </thead>\n",
       "  <tbody>\n",
       "    <tr>\n",
       "      <th>0</th>\n",
       "      <td>0</td>\n",
       "      <td>switchfoot http twitpic com zl awww bummer sho...</td>\n",
       "    </tr>\n",
       "    <tr>\n",
       "      <th>1</th>\n",
       "      <td>0</td>\n",
       "      <td>upset updat facebook text might cri result sch...</td>\n",
       "    </tr>\n",
       "    <tr>\n",
       "      <th>2</th>\n",
       "      <td>0</td>\n",
       "      <td>kenichan dive mani time ball manag save rest g...</td>\n",
       "    </tr>\n",
       "    <tr>\n",
       "      <th>3</th>\n",
       "      <td>0</td>\n",
       "      <td>whole bodi feel itchi like fire</td>\n",
       "    </tr>\n",
       "    <tr>\n",
       "      <th>4</th>\n",
       "      <td>0</td>\n",
       "      <td>nationwideclass behav mad see</td>\n",
       "    </tr>\n",
       "  </tbody>\n",
       "</table>\n",
       "</div>"
      ],
      "text/plain": [
       "   target                                               text\n",
       "0       0  switchfoot http twitpic com zl awww bummer sho...\n",
       "1       0  upset updat facebook text might cri result sch...\n",
       "2       0  kenichan dive mani time ball manag save rest g...\n",
       "3       0                    whole bodi feel itchi like fire\n",
       "4       0                      nationwideclass behav mad see"
      ]
     },
     "execution_count": 19,
     "metadata": {},
     "output_type": "execute_result"
    }
   ],
   "source": [
    "# Show first rows of dataset after stemming it\n",
    "df_processed.head()"
   ]
  },
  {
   "cell_type": "markdown",
   "id": "620bffc0",
   "metadata": {
    "papermill": {
     "duration": 0.01104,
     "end_time": "2024-07-29T13:29:27.055903",
     "exception": false,
     "start_time": "2024-07-29T13:29:27.044863",
     "status": "completed"
    },
    "tags": []
   },
   "source": [
    "## Split data into input and label data"
   ]
  },
  {
   "cell_type": "code",
   "execution_count": 20,
   "id": "90622f23",
   "metadata": {
    "execution": {
     "iopub.execute_input": "2024-07-29T13:29:27.081251Z",
     "iopub.status.busy": "2024-07-29T13:29:27.080571Z",
     "iopub.status.idle": "2024-07-29T13:29:27.086605Z",
     "shell.execute_reply": "2024-07-29T13:29:27.085485Z"
    },
    "papermill": {
     "duration": 0.021134,
     "end_time": "2024-07-29T13:29:27.089023",
     "exception": false,
     "start_time": "2024-07-29T13:29:27.067889",
     "status": "completed"
    },
    "tags": []
   },
   "outputs": [
    {
     "name": "stdout",
     "output_type": "stream",
     "text": [
      "X shape (1600000,)\n",
      "Y shape (1600000,)\n"
     ]
    }
   ],
   "source": [
    "X = df_processed['text']\n",
    "Y = df_processed['target']\n",
    "print(f'X shape {X.shape}')\n",
    "print(f'Y shape {Y.shape}')"
   ]
  },
  {
   "cell_type": "code",
   "execution_count": 21,
   "id": "650f5c9a",
   "metadata": {
    "execution": {
     "iopub.execute_input": "2024-07-29T13:29:27.113247Z",
     "iopub.status.busy": "2024-07-29T13:29:27.112892Z",
     "iopub.status.idle": "2024-07-29T13:29:27.880476Z",
     "shell.execute_reply": "2024-07-29T13:29:27.879346Z"
    },
    "papermill": {
     "duration": 0.782692,
     "end_time": "2024-07-29T13:29:27.882987",
     "exception": false,
     "start_time": "2024-07-29T13:29:27.100295",
     "status": "completed"
    },
    "tags": []
   },
   "outputs": [
    {
     "name": "stdout",
     "output_type": "stream",
     "text": [
      "x train shape (1440000,), x test shape (160000,)\n",
      "y train shape (1440000,), y test shape (160000,)\n"
     ]
    }
   ],
   "source": [
    "# Split data into train and test data\n",
    "x_train, x_test, y_train, y_test = train_test_split(X, Y, train_size = 0.9, stratify = Y, random_state = 42)\n",
    "print(f'x train shape {x_train.shape}, x test shape {x_test.shape}')\n",
    "print(f'y train shape {y_train.shape}, y test shape {y_test.shape}')"
   ]
  },
  {
   "cell_type": "code",
   "execution_count": 22,
   "id": "9e1041ba",
   "metadata": {
    "execution": {
     "iopub.execute_input": "2024-07-29T13:29:27.908145Z",
     "iopub.status.busy": "2024-07-29T13:29:27.907142Z",
     "iopub.status.idle": "2024-07-29T13:29:27.915179Z",
     "shell.execute_reply": "2024-07-29T13:29:27.914193Z"
    },
    "papermill": {
     "duration": 0.022848,
     "end_time": "2024-07-29T13:29:27.917268",
     "exception": false,
     "start_time": "2024-07-29T13:29:27.894420",
     "status": "completed"
    },
    "tags": []
   },
   "outputs": [
    {
     "data": {
      "text/plain": [
       "1214440    brandempir time cud meet b ur welcom come c la...\n",
       "717515     start feel wors cannot wait doctor appt ugh co...\n",
       "921469                                 happi mother day mama\n",
       "555412     appl new iphon g arriv th june peopl pre order...\n",
       "676310               bed cpr class morn work right til close\n",
       "Name: text, dtype: object"
      ]
     },
     "execution_count": 22,
     "metadata": {},
     "output_type": "execute_result"
    }
   ],
   "source": [
    "# Show train data before vectorization\n",
    "x_train.head()"
   ]
  },
  {
   "cell_type": "markdown",
   "id": "6d0ffe56",
   "metadata": {
    "papermill": {
     "duration": 0.01182,
     "end_time": "2024-07-29T13:29:27.940968",
     "exception": false,
     "start_time": "2024-07-29T13:29:27.929148",
     "status": "completed"
    },
    "tags": []
   },
   "source": [
    "## Vectorize content into numerical values using TfidfVectorizer¶\n",
    "**TfidfVectorizer** is a class provided by the scikit-learn library in Python, used for text feature extraction and transformation. It converts a collection of raw text documents into a matrix of TF-IDF (Term Frequency-Inverse Document Frequency) features. This is a common step in text processing for machine learning and natural language processing tasks."
   ]
  },
  {
   "cell_type": "code",
   "execution_count": 23,
   "id": "1c47c59c",
   "metadata": {
    "execution": {
     "iopub.execute_input": "2024-07-29T13:29:27.965824Z",
     "iopub.status.busy": "2024-07-29T13:29:27.965424Z",
     "iopub.status.idle": "2024-07-29T13:29:47.365183Z",
     "shell.execute_reply": "2024-07-29T13:29:47.364087Z"
    },
    "papermill": {
     "duration": 19.415342,
     "end_time": "2024-07-29T13:29:47.367907",
     "exception": false,
     "start_time": "2024-07-29T13:29:27.952565",
     "status": "completed"
    },
    "tags": []
   },
   "outputs": [],
   "source": [
    "# Create vectorizer \n",
    "vectorizer = TfidfVectorizer()\n",
    "\n",
    "# Vectorize text column\n",
    "x_train_vec = vectorizer.fit_transform(x_train)\n",
    "x_test_vec = vectorizer.transform(x_test)"
   ]
  },
  {
   "cell_type": "code",
   "execution_count": 24,
   "id": "a5f24a09",
   "metadata": {
    "execution": {
     "iopub.execute_input": "2024-07-29T13:29:47.393149Z",
     "iopub.status.busy": "2024-07-29T13:29:47.392735Z",
     "iopub.status.idle": "2024-07-29T13:29:47.527092Z",
     "shell.execute_reply": "2024-07-29T13:29:47.526038Z"
    },
    "papermill": {
     "duration": 0.149517,
     "end_time": "2024-07-29T13:29:47.529609",
     "exception": false,
     "start_time": "2024-07-29T13:29:47.380092",
     "status": "completed"
    },
    "tags": []
   },
   "outputs": [
    {
     "name": "stdout",
     "output_type": "stream",
     "text": [
      "  (0, 157521)\t0.14227434800630656\n",
      "  (0, 441184)\t0.24263048344716764\n",
      "  (0, 142949)\t0.22570871714493082\n",
      "  (0, 149758)\t0.29629666587211306\n",
      "  (0, 246053)\t0.1841395263579865\n",
      "  (0, 85020)\t0.18141083315188428\n",
      "  (0, 473364)\t0.2434991861711954\n",
      "  (0, 460396)\t0.2250871645655948\n",
      "  (0, 279755)\t0.2357402163366208\n",
      "  (0, 92944)\t0.3702355372648611\n",
      "  (0, 441356)\t0.32344030168791965\n",
      "  (0, 54260)\t0.5550833693426649\n",
      "  (1, 73752)\t0.3341363534174527\n",
      "  (1, 460961)\t0.25353104652147784\n",
      "  (1, 88549)\t0.2447376850475357\n",
      "  (1, 456736)\t0.2806461079892577\n",
      "  (1, 23296)\t0.42288191979575007\n",
      "  (1, 113661)\t0.3487681199238674\n",
      "  (1, 469841)\t0.22689432021664452\n",
      "  (1, 65090)\t0.3396794077574405\n",
      "  (1, 481276)\t0.3397537870041942\n",
      "  (1, 140489)\t0.20628216886093162\n",
      "  (1, 412272)\t0.24515242650770971\n",
      "  (2, 269735)\t0.6596133930553354\n",
      "  (2, 101221)\t0.3062176591252955\n",
      "  :\t:\n",
      "  (1439996, 261253)\t0.5119819961983575\n",
      "  (1439997, 453237)\t0.6748188344431275\n",
      "  (1439997, 451644)\t0.48799783682644043\n",
      "  (1439997, 166903)\t0.47405509828309517\n",
      "  (1439997, 311248)\t0.2859185473615494\n",
      "  (1439998, 243232)\t0.35147386285943183\n",
      "  (1439998, 149046)\t0.22894618685110826\n",
      "  (1439998, 53019)\t0.24958139641157692\n",
      "  (1439998, 35630)\t0.5503415548775501\n",
      "  (1439998, 76717)\t0.26087079888988257\n",
      "  (1439998, 355885)\t0.3476542444725518\n",
      "  (1439998, 125031)\t0.24206423416101616\n",
      "  (1439998, 477916)\t0.45975093900940434\n",
      "  (1439999, 365848)\t0.48798974119670285\n",
      "  (1439999, 471561)\t0.4671242807269516\n",
      "  (1439999, 405102)\t0.43967025389324427\n",
      "  (1439999, 8075)\t0.2734693984122468\n",
      "  (1439999, 256089)\t0.21217710299159478\n",
      "  (1439999, 415029)\t0.17635063218417507\n",
      "  (1439999, 261253)\t0.15324871475731877\n",
      "  (1439999, 160119)\t0.22734561666792585\n",
      "  (1439999, 470591)\t0.1665254055255892\n",
      "  (1439999, 259650)\t0.1800866593188737\n",
      "  (1439999, 460961)\t0.20980496916028812\n",
      "  (1439999, 157521)\t0.14175883634750996\n"
     ]
    }
   ],
   "source": [
    "# Show train data before vectorization\n",
    "print(x_train_vec)"
   ]
  },
  {
   "cell_type": "markdown",
   "id": "fd8dc426",
   "metadata": {
    "papermill": {
     "duration": 0.011739,
     "end_time": "2024-07-29T13:29:47.553167",
     "exception": false,
     "start_time": "2024-07-29T13:29:47.541428",
     "status": "completed"
    },
    "tags": []
   },
   "source": [
    "# Modeling"
   ]
  },
  {
   "cell_type": "code",
   "execution_count": 25,
   "id": "d6fa155e",
   "metadata": {
    "execution": {
     "iopub.execute_input": "2024-07-29T13:29:47.578509Z",
     "iopub.status.busy": "2024-07-29T13:29:47.578115Z",
     "iopub.status.idle": "2024-07-29T13:29:47.586136Z",
     "shell.execute_reply": "2024-07-29T13:29:47.584929Z"
    },
    "papermill": {
     "duration": 0.023253,
     "end_time": "2024-07-29T13:29:47.588355",
     "exception": false,
     "start_time": "2024-07-29T13:29:47.565102",
     "status": "completed"
    },
    "tags": []
   },
   "outputs": [],
   "source": [
    "# Function to perform the model functionalities\n",
    "def fit_predict(classifier, x_train, y_train, x_test, y_test):\n",
    "    \n",
    "    # Make model fit data\n",
    "    classifier.fit(x_train, y_train)\n",
    "    \n",
    "    # Get Score on train and test data\n",
    "    train_score = classifier.score(x_train, y_train)\n",
    "    test_score = classifier.score(x_test, y_test)\n",
    "    print(f'train score is {train_score}, test score is {test_score}')\n",
    "    \n",
    "    # Make model predict on test data\n",
    "    test_prediction = classifier.predict(x_test)\n",
    "    # Get accuracy, confusion matrix and classification report\n",
    "    accuracy = accuracy_score(y_test, test_prediction) \n",
    "    cf_matrix = confusion_matrix(y_test, test_prediction)\n",
    "    cl_report = classification_report(y_test, test_prediction)\n",
    "    \n",
    "    # Plot confusion matrix\n",
    "    plt.figure(figsize=(7,7))\n",
    "    sns.heatmap(cf_matrix, annot=True, cmap='Blues', fmt='g')\n",
    "    plt.xlabel('Predicted')\n",
    "    plt.ylabel('Actual')\n",
    "    plt.title('Confusion Matrix')\n",
    "    plt.show()\n",
    "    \n",
    "    # Show accuracy and classification report\n",
    "    print(f'accuracy: {accuracy}\\nclassification report:\\n{cl_report}', '\\n\\n')\n",
    "    \n",
    "    return classifier"
   ]
  },
  {
   "cell_type": "code",
   "execution_count": 26,
   "id": "63158894",
   "metadata": {
    "execution": {
     "iopub.execute_input": "2024-07-29T13:29:47.613874Z",
     "iopub.status.busy": "2024-07-29T13:29:47.613036Z",
     "iopub.status.idle": "2024-07-29T13:29:47.618124Z",
     "shell.execute_reply": "2024-07-29T13:29:47.617028Z"
    },
    "papermill": {
     "duration": 0.020015,
     "end_time": "2024-07-29T13:29:47.620298",
     "exception": false,
     "start_time": "2024-07-29T13:29:47.600283",
     "status": "completed"
    },
    "tags": []
   },
   "outputs": [],
   "source": [
    "# Put all required models that can fit this problem\n",
    "models = {\n",
    "    'LogisticRegression': LogisticRegression(),\n",
    "    'LinearSVC': LinearSVC()\n",
    "}"
   ]
  },
  {
   "cell_type": "code",
   "execution_count": 27,
   "id": "7a2eff00",
   "metadata": {
    "execution": {
     "iopub.execute_input": "2024-07-29T13:29:47.645964Z",
     "iopub.status.busy": "2024-07-29T13:29:47.645565Z",
     "iopub.status.idle": "2024-07-29T13:31:03.212004Z",
     "shell.execute_reply": "2024-07-29T13:31:03.210956Z"
    },
    "papermill": {
     "duration": 75.582277,
     "end_time": "2024-07-29T13:31:03.214504",
     "exception": false,
     "start_time": "2024-07-29T13:29:47.632227",
     "status": "completed"
    },
    "tags": []
   },
   "outputs": [
    {
     "name": "stdout",
     "output_type": "stream",
     "text": [
      "LogisticRegression:\n",
      "\n"
     ]
    },
    {
     "name": "stderr",
     "output_type": "stream",
     "text": [
      "/opt/conda/lib/python3.10/site-packages/sklearn/linear_model/_logistic.py:458: ConvergenceWarning: lbfgs failed to converge (status=1):\n",
      "STOP: TOTAL NO. of ITERATIONS REACHED LIMIT.\n",
      "\n",
      "Increase the number of iterations (max_iter) or scale the data as shown in:\n",
      "    https://scikit-learn.org/stable/modules/preprocessing.html\n",
      "Please also refer to the documentation for alternative solver options:\n",
      "    https://scikit-learn.org/stable/modules/linear_model.html#logistic-regression\n",
      "  n_iter_i = _check_optimize_result(\n"
     ]
    },
    {
     "name": "stdout",
     "output_type": "stream",
     "text": [
      "train score is 0.8086319444444444, test score is 0.77806875\n"
     ]
    },
    {
     "data": {
      "image/png": "[encoded data removed]",
      "text/plain": [
       "<Figure size 700x700 with 2 Axes>"
      ]
     },
     "metadata": {},
     "output_type": "display_data"
    },
    {
     "name": "stdout",
     "output_type": "stream",
     "text": [
      "accuracy: 0.77806875\n",
      "classification report:\n",
      "              precision    recall  f1-score   support\n",
      "\n",
      "           0       0.79      0.76      0.77     80000\n",
      "           1       0.77      0.80      0.78     80000\n",
      "\n",
      "    accuracy                           0.78    160000\n",
      "   macro avg       0.78      0.78      0.78    160000\n",
      "weighted avg       0.78      0.78      0.78    160000\n",
      " \n",
      "\n",
      "\n",
      "LinearSVC:\n",
      "\n",
      "train score is 0.8605791666666667, test score is 0.7697125\n"
     ]
    },
    {
     "data": {
      "image/png": "[encoded data removed]",
      "text/plain": [
       "<Figure size 700x700 with 2 Axes>"
      ]
     },
     "metadata": {},
     "output_type": "display_data"
    },
    {
     "name": "stdout",
     "output_type": "stream",
     "text": [
      "accuracy: 0.7697125\n",
      "classification report:\n",
      "              precision    recall  f1-score   support\n",
      "\n",
      "           0       0.78      0.76      0.77     80000\n",
      "           1       0.76      0.78      0.77     80000\n",
      "\n",
      "    accuracy                           0.77    160000\n",
      "   macro avg       0.77      0.77      0.77    160000\n",
      "weighted avg       0.77      0.77      0.77    160000\n",
      " \n",
      "\n",
      "\n"
     ]
    }
   ],
   "source": [
    "trained_models = {}\n",
    "for name, model in models.items():\n",
    "    print(f'{name}:\\n')\n",
    "    model = fit_predict(model, x_train_vec, y_train, x_test_vec, y_test)\n",
    "    trained_models[name] = deepcopy(model)"
   ]
  },
  {
   "cell_type": "markdown",
   "id": "4c74825d",
   "metadata": {
    "papermill": {
     "duration": 0.013164,
     "end_time": "2024-07-29T13:31:03.305670",
     "exception": false,
     "start_time": "2024-07-29T13:31:03.292506",
     "status": "completed"
    },
    "tags": []
   },
   "source": [
    "# Save best model¶\n",
    "Based on the previous results, the LogisticRegression Classifier model is the best one on the test data with accuracy 78%."
   ]
  },
  {
   "cell_type": "code",
   "execution_count": 28,
   "id": "98fa0d9b",
   "metadata": {
    "execution": {
     "iopub.execute_input": "2024-07-29T13:31:03.333935Z",
     "iopub.status.busy": "2024-07-29T13:31:03.333523Z",
     "iopub.status.idle": "2024-07-29T13:31:07.040646Z",
     "shell.execute_reply": "2024-07-29T13:31:07.039469Z"
    },
    "papermill": {
     "duration": 3.723892,
     "end_time": "2024-07-29T13:31:07.042827",
     "exception": false,
     "start_time": "2024-07-29T13:31:03.318935",
     "status": "completed"
    },
    "tags": []
   },
   "outputs": [
    {
     "data": {
      "text/plain": [
       "['vectorizer.sav']"
      ]
     },
     "execution_count": 28,
     "metadata": {},
     "output_type": "execute_result"
    }
   ],
   "source": [
    "# Save model and vectorizer\n",
    "model_path = 'PrepareModel\\logisticregressor.sav'\n",
    "vectorizer_path = 'PrepareModel\\\\vectorizer.sav'\n",
    "\n",
    "# Access logistic regression model\n",
    "logisticregressor = trained_models['LogisticRegression']\n",
    "\n",
    "# Save the Logistic Regression model if it does not already exist\n",
    "if not os.path.exists(model_path):\n",
    "    joblib.dump(trained_models['LogisticRegression'], model_path)\n",
    "    print(f\"Saved Logistic Regression model to {model_path}\")\n",
    "else:\n",
    "    print(f\"Logistic Regression model already exists at {model_path}\")\n",
    "\n",
    "# Save the vectorizer if it does not already exist\n",
    "if not os.path.exists(vectorizer_path):\n",
    "    joblib.dump(vectorizer, vectorizer_path)\n",
    "    print(f\"Saved vectorizer to {vectorizer_path}\")\n",
    "else:\n",
    "    print(f\"Vectorizer already exists at {vectorizer_path}\")"
   ]
  },
  {
   "attachments": {
    "45f32547-f36b-470b-8430-0b2fa0ea4edd.png": {
     "image/png": "[encoded data removed]"
    }
   },
   "cell_type": "markdown",
   "id": "241ceb7f",
   "metadata": {
    "papermill": {
     "duration": 0.01377,
     "end_time": "2024-07-29T13:31:07.070575",
     "exception": false,
     "start_time": "2024-07-29T13:31:07.056805",
     "status": "completed"
    },
    "tags": []
   },
   "source": [
    "![download.png](attachment:45f32547-f36b-470b-8430-0b2fa0ea4edd.png)"
   ]
  }
 ],
 "metadata": {
  "kaggle": {
   "accelerator": "none",
   "dataSources": [
    {
     "datasetId": 2477,
     "sourceId": 4140,
     "sourceType": "datasetVersion"
    },
    {
     "datasetId": 5296087,
     "sourceId": 8805864,
     "sourceType": "datasetVersion"
    }
   ],
   "dockerImageVersionId": 30746,
   "isGpuEnabled": false,
   "isInternetEnabled": true,
   "language": "python",
   "sourceType": "notebook"
  },
  "kernelspec": {
   "display_name": "Python 3",
   "language": "python",
   "name": "python3"
  },
  "language_info": {
   "codemirror_mode": {
    "name": "ipython",
    "version": 3
   },
   "file_extension": ".py",
   "mimetype": "text/x-python",
   "name": "python",
   "nbconvert_exporter": "python",
   "pygments_lexer": "ipython3",
   "version": "3.11.3"
  },
  "papermill": {
   "default_parameters": {},
   "duration": 702.75656,
   "end_time": "2024-07-29T13:31:08.108659",
   "environment_variables": {},
   "exception": null,
   "input_path": "__notebook__.ipynb",
   "output_path": "__notebook__.ipynb",
   "parameters": {},
   "start_time": "2024-07-29T13:19:25.352099",
   "version": "2.5.0"
  }
 },
 "nbformat": 4,
 "nbformat_minor": 5
}
